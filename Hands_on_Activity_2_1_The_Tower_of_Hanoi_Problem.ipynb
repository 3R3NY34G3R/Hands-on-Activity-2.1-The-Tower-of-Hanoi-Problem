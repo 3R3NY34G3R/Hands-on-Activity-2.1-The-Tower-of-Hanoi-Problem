{
  "nbformat": 4,
  "nbformat_minor": 0,
  "metadata": {
    "colab": {
      "private_outputs": true,
      "provenance": [],
      "authorship_tag": "ABX9TyOvPM4FnLnsJVndWedoN+wN",
      "include_colab_link": true
    },
    "kernelspec": {
      "name": "python3",
      "display_name": "Python 3"
    },
    "language_info": {
      "name": "python"
    }
  },
  "cells": [
    {
      "cell_type": "markdown",
      "metadata": {
        "id": "view-in-github",
        "colab_type": "text"
      },
      "source": [
        "<a href=\"https://colab.research.google.com/github/3R3NY34G3R/Hands-on-Activity-2.1-The-Tower-of-Hanoi-Problem/blob/main/Hands_on_Activity_2_1_The_Tower_of_Hanoi_Problem.ipynb\" target=\"_parent\"><img src=\"https://colab.research.google.com/assets/colab-badge.svg\" alt=\"Open In Colab\"/></a>"
      ]
    },
    {
      "cell_type": "markdown",
      "source": [
        "**Recursion:**\n"
      ],
      "metadata": {
        "id": "bCW7qIKZ-Y9R"
      }
    },
    {
      "cell_type": "code",
      "execution_count": null,
      "metadata": {
        "id": "PmrwNUmo8-Ta"
      },
      "outputs": [],
      "source": [
        "def tower_hanoi(n, source, auxiliary, destination):\n",
        "    # Base case: if there's only 1 disk, move it from source to destination\n",
        "    if n == 1:\n",
        "        destination.append(source.pop())\n",
        "        # Pop the last value from source and append to destination\n",
        "        print(destination[-1], source, auxiliary, destination, \"\\n\")\n",
        "        return\n",
        "\n",
        "    # move the top n-1 disks from source to auxiliary using destination as a place holder\n",
        "    tower_hanoi(n-1, source, destination, auxiliary)\n",
        "\n",
        "    # move the nth disk from source to destination\n",
        "    destination.append(source.pop())\n",
        "    print(destination[-1], source, auxiliary, destination, \"\\n\")\n",
        "\n",
        "    # move the n-1 disks from auxiliary to destination using source as placeholder\n",
        "    tower_hanoi(n-1, auxiliary, source, destination)\n",
        "\n",
        "source = [4, 3, 2, 1]\n",
        "auxiliary = []\n",
        "# create a empty list for auxilary\n",
        "destination = []\n",
        "# create a empty list destination\n",
        "n = len(source)\n",
        "tower_hanoi(n, source, auxiliary, destination)"
      ]
    },
    {
      "cell_type": "code",
      "source": [],
      "metadata": {
        "id": "IrGH3HtNA3_l"
      },
      "execution_count": null,
      "outputs": []
    }
  ]
}