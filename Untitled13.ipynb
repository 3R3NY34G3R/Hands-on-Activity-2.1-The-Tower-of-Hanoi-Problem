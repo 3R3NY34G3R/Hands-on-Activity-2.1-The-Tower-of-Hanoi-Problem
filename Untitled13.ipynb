{
  "nbformat": 4,
  "nbformat_minor": 0,
  "metadata": {
    "colab": {
      "private_outputs": true,
      "provenance": [],
      "authorship_tag": "ABX9TyNVMcCC4lHW8uWJkdbI3YV8",
      "include_colab_link": true
    },
    "kernelspec": {
      "name": "python3",
      "display_name": "Python 3"
    },
    "language_info": {
      "name": "python"
    }
  },
  "cells": [
    {
      "cell_type": "markdown",
      "metadata": {
        "id": "view-in-github",
        "colab_type": "text"
      },
      "source": [
        "<a href=\"https://colab.research.google.com/github/3R3NY34G3R/Hands-on-Activity-2.1-The-Tower-of-Hanoi-Problem/blob/main/Untitled13.ipynb\" target=\"_parent\"><img src=\"https://colab.research.google.com/assets/colab-badge.svg\" alt=\"Open In Colab\"/></a>"
      ]
    },
    {
      "cell_type": "code",
      "source": [
        "\n",
        "# there should be no higher number before lower number\n",
        "# if value[i] <= value[i+1] appened to auxilary\n",
        "#else if value[i] <=\n",
        "i=0\n",
        "# make a list\n",
        "value = [1,2,3,4]\n",
        "auxilary=[]\n",
        "destination = []\n",
        "n=len(value)\n",
        "def tower_hanoi():\n",
        "  while len(destination) != n:\n",
        "    if value[0] <= value[i+1]:\n",
        "      auxilary.append(value[i])\n",
        "      del value[i]\n",
        "    elif value[i] <= auxilary[i]:\n",
        "      pass\n",
        "\n",
        "\n",
        "tower_hanoi()\n",
        "\"\"\"i=0\n",
        "destination.append(value[i])\n",
        "del value[i]\n",
        "print(value)\n",
        "print(destination)\"\"\""
      ],
      "metadata": {
        "id": "E3XNrl8KcV0a"
      },
      "execution_count": null,
      "outputs": []
    },
    {
      "cell_type": "code",
      "source": [
        "value = [1, 2, 3, 4]\n",
        "auxiliary = []\n",
        "destination = []\n",
        "n = len(value)\n",
        "\n",
        "while len(destination) != n:\n",
        "    # Find the minimum value in the list\n",
        "    min_val = min(value)\n",
        "    destination.append(min_val)\n",
        "    value.remove(min_val)  # Remove the transferred value\n",
        "    print(value, auxiliary, destination)\n"
      ],
      "metadata": {
        "id": "3xH_zmybtHlJ"
      },
      "execution_count": null,
      "outputs": []
    },
    {
      "cell_type": "code",
      "source": [
        "value = [1,2,3,4]\n",
        "auxilary=[]\n",
        "destination = []\n",
        "n=len(value)\n",
        "\n",
        "while len(destination) != n:\n",
        "  # it will run until all of the value in value transfered in destination\n",
        "  i=0\n",
        "  # destination.append(value[i])\n",
        "  del value[i]\n",
        "  print(value,auxiliary,destination)\n",
        "\n",
        "  if min(value) <= value[-1]:\n",
        "    destination.append(min(value))\n",
        "\n",
        "\n",
        ""
      ],
      "metadata": {
        "id": "rpstLzWRr2v4"
      },
      "execution_count": null,
      "outputs": []
    },
    {
      "cell_type": "code",
      "source": [
        "def tower_hanoi(n, source, auxiliary, destination):\n",
        "# Base case, if there's only 1 disk print append it in destination\n",
        "    if n == 1:\n",
        "        destination.append(source.pop())\n",
        "#pop the last value in source\n",
        "        print(destination[-1], source, auxiliary, destination,\"\\n\")\n",
        "        return\n",
        "#\n",
        "    tower_hanoi(n-1, source, destination, auxiliary)\n",
        "\n",
        "    destination.append(source.pop())\n",
        "    print(destination[-1], source, auxiliary, destination,\"\\n\")\n",
        "\n",
        "    tower_hanoi(n-1, auxiliary, source, destination)\n",
        "\n",
        "\n",
        "source = [4,3,2,1]\n",
        "auxiliary = []\n",
        "destination = []\n",
        "n=len(source)\n",
        "\n",
        "tower_hanoi(n, source, auxiliary, destination)\n"
      ],
      "metadata": {
        "id": "Ej49UeEWve21"
      },
      "execution_count": null,
      "outputs": []
    },
    {
      "cell_type": "code",
      "source": [
        "name=list((1,2,3,4,5))\n",
        "\n",
        "print(name)"
      ],
      "metadata": {
        "id": "-gyf-Cz_1TCQ"
      },
      "execution_count": null,
      "outputs": []
    },
    {
      "cell_type": "code",
      "source": [],
      "metadata": {
        "id": "93u7tZvI2Nlx"
      },
      "execution_count": null,
      "outputs": []
    }
  ]
}